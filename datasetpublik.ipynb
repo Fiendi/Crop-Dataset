{
 "cells": [
  {
   "cell_type": "code",
   "execution_count": 18,
   "id": "baa90b54",
   "metadata": {},
   "outputs": [
    {
     "name": "stdout",
     "output_type": "stream",
     "text": [
      "    N   P   K  temperature   humidity        ph    rainfall label\n",
      "0  90  42  43    20.879744  82.002744  6.502985  202.935536  rice\n",
      "1  85  58  41    21.770462  80.319644  7.038096  226.655537  rice\n",
      "2  60  55  44    23.004459  82.320763  7.840207  263.964248  rice\n",
      "3  74  35  40    26.491096  80.158363  6.980401  242.864034  rice\n",
      "4  78  42  42    20.130175  81.604873  7.628473  262.717340  rice\n"
     ]
    }
   ],
   "source": [
    "import pandas as pd\n",
    "\n",
    "# Memuat dataset\n",
    "dataset = pd.read_csv('C:\\\\Users\\\\ASUS\\\\Documents\\\\Crop_recommendation.csv')\n",
    "\n",
    "print(dataset.head())\n",
    "\n"
   ]
  },
  {
   "cell_type": "code",
   "execution_count": 19,
   "id": "89fcfbff",
   "metadata": {},
   "outputs": [],
   "source": [
    "dataset.drop(columns=['temperature','rainfall'], inplace=True)\n"
   ]
  },
  {
   "cell_type": "code",
   "execution_count": 20,
   "id": "4205f5ea",
   "metadata": {},
   "outputs": [],
   "source": [
    "dataset = dataset[['N', 'P', 'K', 'humidity', 'ph', 'label']]\n",
    "\n",
    "# Mengganti 'Humidity' dengan 'moisture'\n",
    "dataset.rename(columns={'Humidity': 'moisture'}, inplace=True)"
   ]
  },
  {
   "cell_type": "code",
   "execution_count": 30,
   "id": "f56bd5ab",
   "metadata": {},
   "outputs": [],
   "source": [
    "# Memisahkan kolom numerik dan kategorikal\n",
    "numeric_columns = dataset.select_dtypes(include=['float64', 'int64']).columns\n",
    "categorical_columns = dataset.select_dtypes(include=['object']).columns\n",
    "\n",
    "# Mengisi nilai yang hilang pada kolom numerik dengan median\n",
    "dataset[numeric_columns] = dataset[numeric_columns].fillna(dataset[numeric_columns].median())\n",
    "\n",
    "# Mengisi nilai yang hilang pada kolom kategorikal dengan mode\n",
    "for col in categorical_columns:\n",
    "    dataset[col].fillna(dataset[col].mode()[0], inplace=True)\n"
   ]
  },
  {
   "cell_type": "code",
   "execution_count": 31,
   "id": "a8b4ca1e",
   "metadata": {},
   "outputs": [],
   "source": [
    "# Mengubah kolom kategorikal menjadi dummy/indicator variables\n",
    "dataset = pd.get_dummies(dataset, columns=categorical_columns, drop_first=True)\n"
   ]
  },
  {
   "cell_type": "code",
   "execution_count": null,
   "id": "366be3ba",
   "metadata": {},
   "outputs": [],
   "source": [
    "### Menambah Kolom Target"
   ]
  },
  {
   "cell_type": "code",
   "execution_count": 32,
   "id": "ad3e7df1",
   "metadata": {},
   "outputs": [],
   "source": [
    "def calculate_nitrogen_need(row):\n",
    "    return 2.5 * row['N']  # Formula sintetik\n",
    "\n",
    "def calculate_phosphorus_need(row):\n",
    "    return 2.5 * row['P']  # Formula sintetik\n",
    "\n",
    "def calculate_potassium_need(row):\n",
    "    return 2.5 * row['K']  # Formula sintetik\n",
    "\n",
    "def calculate_water_need(row):\n",
    "    return 4.6 * row['moisture'] \n",
    "\n",
    "dataset['nitrogen_need'] = dataset.apply(calculate_nitrogen_need, axis=1)\n",
    "dataset['phosphorus_need'] = dataset.apply(calculate_phosphorus_need, axis=1)\n",
    "dataset['potassium_need'] = dataset.apply(calculate_potassium_need, axis=1)\n",
    "dataset['water_need'] = dataset.apply(calculate_water_need, axis=1)"
   ]
  },
  {
   "cell_type": "code",
   "execution_count": 33,
   "id": "7530e392",
   "metadata": {},
   "outputs": [],
   "source": [
    "# Fitur\n",
    "X = dataset[['N', 'P', 'K', 'moisture', 'ph']]\n",
    "\n",
    "# Target untuk setiap jenis pupuk dan air\n",
    "y_nitrogen = dataset['nitrogen_need']\n",
    "y_phosphorus = dataset['phosphorus_need']\n",
    "y_potassium = dataset['potassium_need']\n",
    "y_water = dataset['water_need']\n"
   ]
  },
  {
   "cell_type": "code",
   "execution_count": null,
   "id": "90a7878c",
   "metadata": {},
   "outputs": [],
   "source": [
    "### Pembagian Data"
   ]
  },
  {
   "cell_type": "code",
   "execution_count": 34,
   "id": "fb85a5fb",
   "metadata": {},
   "outputs": [],
   "source": [
    "from sklearn.model_selection import train_test_split\n",
    "\n",
    "# Membagi data menjadi data latih dan data uji untuk nitrogen\n",
    "X_train_nitrogen, X_test_nitrogen, y_train_nitrogen, y_test_nitrogen = train_test_split(X, y_nitrogen, test_size=0.2, random_state=42)\n",
    "\n",
    "# Membagi data menjadi data latih dan data uji untuk phosphorus\n",
    "X_train_phosphorus, X_test_phosphorus, y_train_phosphorus, y_test_phosphorus = train_test_split(X, y_phosphorus, test_size=0.2, random_state=42)\n",
    "\n",
    "# Membagi data menjadi data latih dan data uji untuk potassium\n",
    "X_train_potassium, X_test_potassium, y_train_potassium, y_test_potassium = train_test_split(X, y_potassium, test_size=0.2, random_state=42)\n",
    "\n",
    "# Membagi data menjadi data latih dan data uji untuk air\n",
    "X_train_water, X_test_water, y_train_water, y_test_water = train_test_split(X, y_water, test_size=0.2, random_state=42)\n"
   ]
  },
  {
   "cell_type": "code",
   "execution_count": null,
   "id": "ca39ebd7",
   "metadata": {},
   "outputs": [],
   "source": [
    "### Pemodelan"
   ]
  },
  {
   "cell_type": "code",
   "execution_count": 35,
   "id": "1009a1c5",
   "metadata": {},
   "outputs": [
    {
     "data": {
      "text/html": [
       "<style>#sk-container-id-1 {color: black;}#sk-container-id-1 pre{padding: 0;}#sk-container-id-1 div.sk-toggleable {background-color: white;}#sk-container-id-1 label.sk-toggleable__label {cursor: pointer;display: block;width: 100%;margin-bottom: 0;padding: 0.3em;box-sizing: border-box;text-align: center;}#sk-container-id-1 label.sk-toggleable__label-arrow:before {content: \"▸\";float: left;margin-right: 0.25em;color: #696969;}#sk-container-id-1 label.sk-toggleable__label-arrow:hover:before {color: black;}#sk-container-id-1 div.sk-estimator:hover label.sk-toggleable__label-arrow:before {color: black;}#sk-container-id-1 div.sk-toggleable__content {max-height: 0;max-width: 0;overflow: hidden;text-align: left;background-color: #f0f8ff;}#sk-container-id-1 div.sk-toggleable__content pre {margin: 0.2em;color: black;border-radius: 0.25em;background-color: #f0f8ff;}#sk-container-id-1 input.sk-toggleable__control:checked~div.sk-toggleable__content {max-height: 200px;max-width: 100%;overflow: auto;}#sk-container-id-1 input.sk-toggleable__control:checked~label.sk-toggleable__label-arrow:before {content: \"▾\";}#sk-container-id-1 div.sk-estimator input.sk-toggleable__control:checked~label.sk-toggleable__label {background-color: #d4ebff;}#sk-container-id-1 div.sk-label input.sk-toggleable__control:checked~label.sk-toggleable__label {background-color: #d4ebff;}#sk-container-id-1 input.sk-hidden--visually {border: 0;clip: rect(1px 1px 1px 1px);clip: rect(1px, 1px, 1px, 1px);height: 1px;margin: -1px;overflow: hidden;padding: 0;position: absolute;width: 1px;}#sk-container-id-1 div.sk-estimator {font-family: monospace;background-color: #f0f8ff;border: 1px dotted black;border-radius: 0.25em;box-sizing: border-box;margin-bottom: 0.5em;}#sk-container-id-1 div.sk-estimator:hover {background-color: #d4ebff;}#sk-container-id-1 div.sk-parallel-item::after {content: \"\";width: 100%;border-bottom: 1px solid gray;flex-grow: 1;}#sk-container-id-1 div.sk-label:hover label.sk-toggleable__label {background-color: #d4ebff;}#sk-container-id-1 div.sk-serial::before {content: \"\";position: absolute;border-left: 1px solid gray;box-sizing: border-box;top: 0;bottom: 0;left: 50%;z-index: 0;}#sk-container-id-1 div.sk-serial {display: flex;flex-direction: column;align-items: center;background-color: white;padding-right: 0.2em;padding-left: 0.2em;position: relative;}#sk-container-id-1 div.sk-item {position: relative;z-index: 1;}#sk-container-id-1 div.sk-parallel {display: flex;align-items: stretch;justify-content: center;background-color: white;position: relative;}#sk-container-id-1 div.sk-item::before, #sk-container-id-1 div.sk-parallel-item::before {content: \"\";position: absolute;border-left: 1px solid gray;box-sizing: border-box;top: 0;bottom: 0;left: 50%;z-index: -1;}#sk-container-id-1 div.sk-parallel-item {display: flex;flex-direction: column;z-index: 1;position: relative;background-color: white;}#sk-container-id-1 div.sk-parallel-item:first-child::after {align-self: flex-end;width: 50%;}#sk-container-id-1 div.sk-parallel-item:last-child::after {align-self: flex-start;width: 50%;}#sk-container-id-1 div.sk-parallel-item:only-child::after {width: 0;}#sk-container-id-1 div.sk-dashed-wrapped {border: 1px dashed gray;margin: 0 0.4em 0.5em 0.4em;box-sizing: border-box;padding-bottom: 0.4em;background-color: white;}#sk-container-id-1 div.sk-label label {font-family: monospace;font-weight: bold;display: inline-block;line-height: 1.2em;}#sk-container-id-1 div.sk-label-container {text-align: center;}#sk-container-id-1 div.sk-container {/* jupyter's `normalize.less` sets `[hidden] { display: none; }` but bootstrap.min.css set `[hidden] { display: none !important; }` so we also need the `!important` here to be able to override the default hidden behavior on the sphinx rendered scikit-learn.org. See: https://github.com/scikit-learn/scikit-learn/issues/21755 */display: inline-block !important;position: relative;}#sk-container-id-1 div.sk-text-repr-fallback {display: none;}</style><div id=\"sk-container-id-1\" class=\"sk-top-container\"><div class=\"sk-text-repr-fallback\"><pre>DecisionTreeRegressor(random_state=42)</pre><b>In a Jupyter environment, please rerun this cell to show the HTML representation or trust the notebook. <br />On GitHub, the HTML representation is unable to render, please try loading this page with nbviewer.org.</b></div><div class=\"sk-container\" hidden><div class=\"sk-item\"><div class=\"sk-estimator sk-toggleable\"><input class=\"sk-toggleable__control sk-hidden--visually\" id=\"sk-estimator-id-1\" type=\"checkbox\" checked><label for=\"sk-estimator-id-1\" class=\"sk-toggleable__label sk-toggleable__label-arrow\">DecisionTreeRegressor</label><div class=\"sk-toggleable__content\"><pre>DecisionTreeRegressor(random_state=42)</pre></div></div></div></div></div>"
      ],
      "text/plain": [
       "DecisionTreeRegressor(random_state=42)"
      ]
     },
     "execution_count": 35,
     "metadata": {},
     "output_type": "execute_result"
    }
   ],
   "source": [
    "from sklearn.tree import DecisionTreeRegressor\n",
    "\n",
    "# Model untuk nitrogen\n",
    "model_nitrogen = DecisionTreeRegressor(random_state=42)\n",
    "model_nitrogen.fit(X_train_nitrogen, y_train_nitrogen)\n",
    "\n",
    "# Model untuk phosphorus\n",
    "model_phosphorus = DecisionTreeRegressor(random_state=42)\n",
    "model_phosphorus.fit(X_train_phosphorus, y_train_phosphorus)\n",
    "\n",
    "# Model untuk potassium\n",
    "model_potassium = DecisionTreeRegressor(random_state=42)\n",
    "model_potassium.fit(X_train_potassium, y_train_potassium)\n",
    "\n",
    "# Model untuk air\n",
    "model_water = DecisionTreeRegressor(random_state=42)\n",
    "model_water.fit(X_train_water, y_train_water)\n"
   ]
  },
  {
   "cell_type": "code",
   "execution_count": 36,
   "id": "5c93712d",
   "metadata": {},
   "outputs": [],
   "source": [
    "# Prediksi untuk nitrogen\n",
    "y_pred_nitrogen = model_nitrogen.predict(X_test_nitrogen)\n",
    "\n",
    "# Prediksi untuk phosphorus\n",
    "y_pred_phosphorus = model_phosphorus.predict(X_test_phosphorus)\n",
    "\n",
    "# Prediksi untuk potassium\n",
    "y_pred_potassium = model_potassium.predict(X_test_potassium)\n",
    "\n",
    "# Prediksi untuk air\n",
    "y_pred_water = model_water.predict(X_test_water)\n"
   ]
  },
  {
   "cell_type": "code",
   "execution_count": 37,
   "id": "dc1b2ec1",
   "metadata": {},
   "outputs": [],
   "source": [
    "### Evaluasi model"
   ]
  },
  {
   "cell_type": "code",
   "execution_count": 38,
   "id": "e36c676c",
   "metadata": {},
   "outputs": [
    {
     "name": "stdout",
     "output_type": "stream",
     "text": [
      "Nitrogen - Mean Squared Error: 0.07086167800453515\n",
      "Nitrogen - R^2 Score: 0.9999913448673293\n",
      "Phosphorus - Mean Squared Error: 0.04251700680272109\n",
      "Phosphorus - R^2 Score: 0.9999937434071685\n",
      "Potassium - Mean Squared Error: 0.0\n",
      "Potassium - R^2 Score: 1.0\n",
      "Water - Mean Squared Error: 0.0\n",
      "Water - R^2 Score: 1.0\n"
     ]
    }
   ],
   "source": [
    "from sklearn.metrics import mean_squared_error, r2_score\n",
    "\n",
    "# Evaluasi model nitrogen\n",
    "mse_nitrogen = mean_squared_error(y_test_nitrogen, y_pred_nitrogen)\n",
    "r2_nitrogen = r2_score(y_test_nitrogen, y_pred_nitrogen)\n",
    "print(f\"Nitrogen - Mean Squared Error: {mse_nitrogen}\")\n",
    "print(f\"Nitrogen - R^2 Score: {r2_nitrogen}\")\n",
    "\n",
    "# Evaluasi model phosphorus\n",
    "mse_phosphorus = mean_squared_error(y_test_phosphorus, y_pred_phosphorus)\n",
    "r2_phosphorus = r2_score(y_test_phosphorus, y_pred_phosphorus)\n",
    "print(f\"Phosphorus - Mean Squared Error: {mse_phosphorus}\")\n",
    "print(f\"Phosphorus - R^2 Score: {r2_phosphorus}\")\n",
    "\n",
    "# Evaluasi model potassium\n",
    "mse_potassium = mean_squared_error(y_test_potassium, y_pred_potassium)\n",
    "r2_potassium = r2_score(y_test_potassium, y_pred_potassium)\n",
    "print(f\"Potassium - Mean Squared Error: {mse_potassium}\")\n",
    "print(f\"Potassium - R^2 Score: {r2_potassium}\")\n",
    "\n",
    "# Evaluasi model air\n",
    "mse_water = mean_squared_error(y_test_water, y_pred_water)\n",
    "r2_water = r2_score(y_test_water, y_pred_water)\n",
    "print(f\"Water - Mean Squared Error: {mse_water}\")\n",
    "print(f\"Water - R^2 Score: {r2_water}\")\n"
   ]
  },
  {
   "cell_type": "code",
   "execution_count": 41,
   "id": "6defade5",
   "metadata": {},
   "outputs": [
    {
     "data": {
      "text/plain": [
       "['model_water.joblib']"
      ]
     },
     "execution_count": 41,
     "metadata": {},
     "output_type": "execute_result"
    }
   ],
   "source": [
    "from joblib import dump\n",
    "\n",
    "dump(scaler, 'scaler.joblib')\n",
    "\n",
    "# Simpan model nitrogen\n",
    "dump(model_nitrogen, 'model_nitrogen.joblib')\n",
    "\n",
    "# Simpan model phosphorus\n",
    "dump(model_phosphorus, 'model_phosphorus.joblib')\n",
    "\n",
    "# Simpan model potassium\n",
    "dump(model_potassium, 'model_potassium.joblib')\n",
    "\n",
    "# Simpan model water\n",
    "dump(model_water, 'model_water.joblib')\n"
   ]
  },
  {
   "cell_type": "code",
   "execution_count": 44,
   "id": "fe6226b3",
   "metadata": {},
   "outputs": [
    {
     "name": "stdout",
     "output_type": "stream",
     "text": [
      "Fitur yang digunakan dalam scaler: ['N' 'P' 'K' 'moisture' 'ph']\n"
     ]
    }
   ],
   "source": [
    "print(\"Fitur yang digunakan dalam scaler:\", scaler.feature_names_in_)\n"
   ]
  },
  {
   "cell_type": "code",
   "execution_count": 45,
   "id": "82d1775c",
   "metadata": {},
   "outputs": [],
   "source": [
    "# Ubah nama kolom dari 'humidity' menjadi 'moisture'\n",
    "sensor_df = sensor_df.rename(columns={'humidity': 'moisture'})\n"
   ]
  },
  {
   "cell_type": "code",
   "execution_count": 46,
   "id": "5644ed72",
   "metadata": {},
   "outputs": [],
   "source": [
    "# Pastikan urutan fitur sesuai dengan yang digunakan saat fit scaler\n",
    "expected_features = ['N', 'P', 'K', 'moisture', 'ph']\n",
    "sensor_df = sensor_df[expected_features]\n"
   ]
  },
  {
   "cell_type": "code",
   "execution_count": 47,
   "id": "8e049d98",
   "metadata": {},
   "outputs": [],
   "source": [
    "# Normalisasi data sensor yang telah disesuaikan\n",
    "sensor_normalized = scaler.transform(sensor_df)\n"
   ]
  },
  {
   "cell_type": "code",
   "execution_count": 48,
   "id": "20689dc7",
   "metadata": {},
   "outputs": [
    {
     "name": "stdout",
     "output_type": "stream",
     "text": [
      "Fitur yang digunakan dalam scaler: ['N' 'P' 'K' 'moisture' 'ph']\n"
     ]
    },
    {
     "name": "stderr",
     "output_type": "stream",
     "text": [
      "C:\\ProgramData\\anaconda3\\Lib\\site-packages\\sklearn\\base.py:464: UserWarning: X does not have valid feature names, but DecisionTreeRegressor was fitted with feature names\n",
      "  warnings.warn(\n",
      "C:\\ProgramData\\anaconda3\\Lib\\site-packages\\sklearn\\base.py:464: UserWarning: X does not have valid feature names, but DecisionTreeRegressor was fitted with feature names\n",
      "  warnings.warn(\n",
      "C:\\ProgramData\\anaconda3\\Lib\\site-packages\\sklearn\\base.py:464: UserWarning: X does not have valid feature names, but DecisionTreeRegressor was fitted with feature names\n",
      "  warnings.warn(\n",
      "C:\\ProgramData\\anaconda3\\Lib\\site-packages\\sklearn\\base.py:464: UserWarning: X does not have valid feature names, but DecisionTreeRegressor was fitted with feature names\n",
      "  warnings.warn(\n"
     ]
    },
    {
     "name": "stdout",
     "output_type": "stream",
     "text": [
      "Predicted Water Requirement: 276.0\n",
      "Predicted N Requirement: 0.0\n",
      "Predicted P Requirement: 12.5\n",
      "Predicted K Requirement: 12.5\n"
     ]
    }
   ],
   "source": [
    "import firebase_admin\n",
    "from firebase_admin import credentials, db\n",
    "import pandas as pd\n",
    "import joblib  # Ubah dari pickle ke joblib jika Anda menggunakan joblib\n",
    "\n",
    "# Inisialisasi aplikasi Firebase\n",
    "if not firebase_admin._apps:\n",
    "    cred = credentials.Certificate(\"kebuncabe-6f515-firebase-adminsdk-n54zr-c89d1f51dd.json\")\n",
    "    firebase_admin.initialize_app(cred, {\n",
    "        'databaseURL': 'https://kebuncabe-6f515-default-rtdb.firebaseio.com/'\n",
    "    })\n",
    "\n",
    "# Mengambil data dari Firebase\n",
    "ref = db.reference('sensorData')\n",
    "sensor_data = ref.get()\n",
    "\n",
    "# Cek apakah data adalah nested dictionary dan ambil nilai dari 'sensorData' jika ada\n",
    "if isinstance(sensor_data, dict) and 'sensorData' in sensor_data:\n",
    "    sensor_data = sensor_data['sensorData']\n",
    "\n",
    "# Konversi data menjadi DataFrame\n",
    "sensor_df = pd.DataFrame([sensor_data])\n",
    "\n",
    "# Ubah nama kolom dari 'humidity' menjadi 'moisture'\n",
    "sensor_df = sensor_df.rename(columns={'humidity': 'moisture'})\n",
    "\n",
    "# Ubah tipe data dari kolom menjadi float jika memungkinkan\n",
    "try:\n",
    "    sensor_df = sensor_df.astype({'K': 'float', 'N': 'float', 'P': 'float', 'moisture': 'float', 'ph': 'float'})\n",
    "except KeyError as e:\n",
    "    print(f\"KeyError: {e}. Available columns: {sensor_df.columns}\")\n",
    "\n",
    "# Pastikan urutan fitur sesuai dengan model\n",
    "expected_features = ['N', 'P', 'K', 'moisture', 'ph']\n",
    "sensor_df = sensor_df[expected_features]\n",
    "\n",
    "# Muat model dan scaler dari file menggunakan joblib\n",
    "scaler = joblib.load('scaler.joblib')\n",
    "model_water = joblib.load('model_water.joblib')\n",
    "model_n = joblib.load('model_nitrogen.joblib')\n",
    "model_p = joblib.load('model_phosphorus.joblib')\n",
    "model_k = joblib.load('model_potassium.joblib')\n",
    "\n",
    "# Pastikan fitur dalam scaler sesuai dengan yang digunakan pada model\n",
    "print(\"Fitur yang digunakan dalam scaler:\", scaler.feature_names_in_)\n",
    "\n",
    "# Normalisasi data sensor yang telah disesuaikan\n",
    "sensor_normalized = scaler.transform(sensor_df)\n",
    "\n",
    "# Prediksi kebutuhan air dan pupuk\n",
    "predicted_water = model_water.predict(sensor_normalized)\n",
    "predicted_n = model_n.predict(sensor_normalized)\n",
    "predicted_p = model_p.predict(sensor_normalized)\n",
    "predicted_k = model_k.predict(sensor_normalized)\n",
    "\n",
    "# Update prediksi ke Firebase\n",
    "predictions_ref = db.reference('predictions_realtime')\n",
    "predictions_ref.set({\n",
    "    'Penambahan Air (ml)': predicted_water[0],\n",
    "    'Penambahan Pupuk KCL (K)': predicted_k[0],\n",
    "    'Penambahan Pupuk SP36 (P)': predicted_p[0],\n",
    "    'Penambahan Pupuk Urea (N)': predicted_n[0],\n",
    "})\n",
    "\n",
    "print(f'Predicted Water Requirement: {predicted_water[0]}')\n",
    "print(f'Predicted N Requirement: {predicted_n[0]}')\n",
    "print(f'Predicted P Requirement: {predicted_p[0]}')\n",
    "print(f'Predicted K Requirement: {predicted_k[0]}')\n"
   ]
  },
  {
   "cell_type": "code",
   "execution_count": null,
   "id": "dea4cc36",
   "metadata": {},
   "outputs": [],
   "source": []
  },
  {
   "cell_type": "code",
   "execution_count": 51,
   "id": "2a0bef13",
   "metadata": {},
   "outputs": [
    {
     "name": "stdout",
     "output_type": "stream",
     "text": [
      "Mean Absolute Error (MAE): 56.5\n",
      "Mean Squared Error (MSE): 4075.875\n",
      "Root Mean Squared Error (RMSE): 63.84257983509125\n",
      "R-squared (R²): 0.6815053941989773\n"
     ]
    }
   ],
   "source": [
    "from sklearn.metrics import mean_absolute_error, mean_squared_error, r2_score\n",
    "import numpy as np\n",
    "\n",
    "# Misalkan y_true adalah nilai aktual dan y_pred adalah hasil prediksi\n",
    "y_true = np.array([82.5, 25, 97.5, 322.0])  # Contoh nilai aktual\n",
    "y_pred = np.array([0.0, 12.5, 12.5, 276.0])  # Contoh hasil prediksi\n",
    "\n",
    "# Hitung metrik error\n",
    "mae = mean_absolute_error(y_true, y_pred)\n",
    "mse = mean_squared_error(y_true, y_pred)\n",
    "rmse = np.sqrt(mse)\n",
    "r2 = r2_score(y_true, y_pred)\n",
    "\n",
    "print(f\"Mean Absolute Error (MAE): {mae}\")\n",
    "print(f\"Mean Squared Error (MSE): {mse}\")\n",
    "print(f\"Root Mean Squared Error (RMSE): {rmse}\")\n",
    "print(f\"R-squared (R²): {r2}\")\n"
   ]
  },
  {
   "cell_type": "code",
   "execution_count": null,
   "id": "c6a51e88",
   "metadata": {},
   "outputs": [],
   "source": []
  },
  {
   "cell_type": "code",
   "execution_count": 5,
   "id": "6dad984d",
   "metadata": {},
   "outputs": [
    {
     "name": "stdout",
     "output_type": "stream",
     "text": [
      "Best parameters for nitrogen: {'max_depth': None, 'min_samples_leaf': 1, 'min_samples_split': 2}\n",
      "Best parameters for phosphorus: {'max_depth': None, 'min_samples_leaf': 1, 'min_samples_split': 2}\n",
      "Best parameters for potassium: {'max_depth': None, 'min_samples_leaf': 1, 'min_samples_split': 2}\n",
      "Best parameters for water: {'max_depth': 10, 'min_samples_leaf': 1, 'min_samples_split': 2}\n",
      "Overall - Mean Absolute Error: 0.07240600071189629\n",
      "Overall - Mean Squared Error: 0.084536228057739\n",
      "Overall - R^2 Score: 0.999991216617317\n"
     ]
    },
    {
     "data": {
      "text/plain": [
       "['model_water.joblib']"
      ]
     },
     "execution_count": 5,
     "metadata": {},
     "output_type": "execute_result"
    }
   ],
   "source": [
    "import pandas as pd\n",
    "from sklearn.model_selection import train_test_split, GridSearchCV\n",
    "from sklearn.tree import DecisionTreeRegressor\n",
    "from sklearn.metrics import mean_absolute_error, mean_squared_error, r2_score\n",
    "from joblib import dump\n",
    "\n",
    "# **1. Load Dataset**\n",
    "dataset = pd.read_csv('C:\\\\Users\\\\ASUS\\\\Documents\\\\Crop_recommendation.csv')\n",
    "\n",
    "# **2. Preprocessing**\n",
    "# Drop unnecessary columns\n",
    "dataset.drop(columns=['temperature', 'rainfall'], inplace=True)\n",
    "\n",
    "# Rename 'Humidity' to 'moisture'\n",
    "dataset.rename(columns={'humidity': 'moisture'}, inplace=True)\n",
    "\n",
    "# Fill missing values\n",
    "numeric_columns = dataset.select_dtypes(include=['float64', 'int64']).columns\n",
    "categorical_columns = dataset.select_dtypes(include=['object']).columns\n",
    "\n",
    "dataset[numeric_columns] = dataset[numeric_columns].fillna(dataset[numeric_columns].median())\n",
    "\n",
    "for col in categorical_columns:\n",
    "    dataset[col].fillna(dataset[col].mode()[0], inplace=True)\n",
    "\n",
    "# Convert categorical columns to dummy variables\n",
    "dataset = pd.get_dummies(dataset, columns=categorical_columns, drop_first=True)\n",
    "\n",
    "# **3. Feature Engineering**\n",
    "def calculate_nitrogen_need(row):\n",
    "    return 2.5 * row['N']\n",
    "\n",
    "def calculate_phosphorus_need(row):\n",
    "    return 2.5 * row['P']\n",
    "\n",
    "def calculate_potassium_need(row):\n",
    "    return 2.5 * row['K']\n",
    "\n",
    "def calculate_water_need(row):\n",
    "    return 4.6 * row['moisture']\n",
    "\n",
    "dataset['nitrogen_need'] = dataset.apply(calculate_nitrogen_need, axis=1)\n",
    "dataset['phosphorus_need'] = dataset.apply(calculate_phosphorus_need, axis=1)\n",
    "dataset['potassium_need'] = dataset.apply(calculate_potassium_need, axis=1)\n",
    "dataset['water_need'] = dataset.apply(calculate_water_need, axis=1)\n",
    "\n",
    "# **4. Split Data**\n",
    "X = dataset[['N', 'P', 'K', 'moisture', 'ph']]\n",
    "y_nitrogen = dataset['nitrogen_need']\n",
    "y_phosphorus = dataset['phosphorus_need']\n",
    "y_potassium = dataset['potassium_need']\n",
    "y_water = dataset['water_need']\n",
    "\n",
    "X_train_nitrogen, X_test_nitrogen, y_train_nitrogen, y_test_nitrogen = train_test_split(X, y_nitrogen, test_size=0.2, random_state=42)\n",
    "X_train_phosphorus, X_test_phosphorus, y_train_phosphorus, y_test_phosphorus = train_test_split(X, y_phosphorus, test_size=0.2, random_state=42)\n",
    "X_train_potassium, X_test_potassium, y_train_potassium, y_test_potassium = train_test_split(X, y_potassium, test_size=0.2, random_state=42)\n",
    "X_train_water, X_test_water, y_train_water, y_test_water = train_test_split(X, y_water, test_size=0.2, random_state=42)\n",
    "\n",
    "# **5. Train Models**\n",
    "model_nitrogen = DecisionTreeRegressor(random_state=42)\n",
    "model_phosphorus = DecisionTreeRegressor(random_state=42)\n",
    "model_potassium = DecisionTreeRegressor(random_state=42)\n",
    "model_water = DecisionTreeRegressor(random_state=42)\n",
    "\n",
    "model_nitrogen.fit(X_train_nitrogen, y_train_nitrogen)\n",
    "model_phosphorus.fit(X_train_phosphorus, y_train_phosphorus)\n",
    "model_potassium.fit(X_train_potassium, y_train_potassium)\n",
    "model_water.fit(X_train_water, y_train_water)\n",
    "\n",
    "# **6. Hyperparameter Tuning**\n",
    "# Define parameter grid\n",
    "param_grid = {\n",
    "    'max_depth': [None, 10, 20, 30],\n",
    "    'min_samples_split': [2, 5, 10],\n",
    "    'min_samples_leaf': [1, 2, 4]\n",
    "}\n",
    "\n",
    "# Apply GridSearchCV for each model\n",
    "grid_search_nitrogen = GridSearchCV(estimator=model_nitrogen, param_grid=param_grid, cv=5, n_jobs=-1, scoring='r2')\n",
    "grid_search_phosphorus = GridSearchCV(estimator=model_phosphorus, param_grid=param_grid, cv=5, n_jobs=-1, scoring='r2')\n",
    "grid_search_potassium = GridSearchCV(estimator=model_potassium, param_grid=param_grid, cv=5, n_jobs=-1, scoring='r2')\n",
    "grid_search_water = GridSearchCV(estimator=model_water, param_grid=param_grid, cv=5, n_jobs=-1, scoring='r2')\n",
    "\n",
    "# Fit grid search\n",
    "grid_search_nitrogen.fit(X_train_nitrogen, y_train_nitrogen)\n",
    "grid_search_phosphorus.fit(X_train_phosphorus, y_train_phosphorus)\n",
    "grid_search_potassium.fit(X_train_potassium, y_train_potassium)\n",
    "grid_search_water.fit(X_train_water, y_train_water)\n",
    "\n",
    "# Best parameters\n",
    "print(\"Best parameters for nitrogen:\", grid_search_nitrogen.best_params_)\n",
    "print(\"Best parameters for phosphorus:\", grid_search_phosphorus.best_params_)\n",
    "print(\"Best parameters for potassium:\", grid_search_potassium.best_params_)\n",
    "print(\"Best parameters for water:\", grid_search_water.best_params_)\n",
    "\n",
    "# **7. Evaluate Models**\n",
    "# Use best models\n",
    "best_model_nitrogen = grid_search_nitrogen.best_estimator_\n",
    "best_model_phosphorus = grid_search_phosphorus.best_estimator_\n",
    "best_model_potassium = grid_search_potassium.best_estimator_\n",
    "best_model_water = grid_search_water.best_estimator_\n",
    "\n",
    "# Predictions\n",
    "y_pred_nitrogen = best_model_nitrogen.predict(X_test_nitrogen)\n",
    "y_pred_phosphorus = best_model_phosphorus.predict(X_test_phosphorus)\n",
    "y_pred_potassium = best_model_potassium.predict(X_test_potassium)\n",
    "y_pred_water = best_model_water.predict(X_test_water)\n",
    "\n",
    "# Calculate and print performance metrics\n",
    "# Nitrogen\n",
    "mae_nitrogen = mean_absolute_error(y_test_nitrogen, y_pred_nitrogen)\n",
    "mse_nitrogen = mean_squared_error(y_test_nitrogen, y_pred_nitrogen)\n",
    "r2_nitrogen = r2_score(y_test_nitrogen, y_pred_nitrogen)\n",
    "\n",
    "# Phosphorus\n",
    "mae_phosphorus = mean_absolute_error(y_test_phosphorus, y_pred_phosphorus)\n",
    "mse_phosphorus = mean_squared_error(y_test_phosphorus, y_pred_phosphorus)\n",
    "r2_phosphorus = r2_score(y_test_phosphorus, y_pred_phosphorus)\n",
    "\n",
    "# Potassium\n",
    "mae_potassium = mean_absolute_error(y_test_potassium, y_pred_potassium)\n",
    "mse_potassium = mean_squared_error(y_test_potassium, y_pred_potassium)\n",
    "r2_potassium = r2_score(y_test_potassium, y_pred_potassium)\n",
    "\n",
    "# Water\n",
    "mae_water = mean_absolute_error(y_test_water, y_pred_water)\n",
    "mse_water = mean_squared_error(y_test_water, y_pred_water)\n",
    "r2_water = r2_score(y_test_water, y_pred_water)\n",
    "\n",
    "# Overall Performance\n",
    "mae_overall = (mae_nitrogen + mae_phosphorus + mae_potassium + mae_water) / 4\n",
    "mse_overall = (mse_nitrogen + mse_phosphorus + mse_potassium + mse_water) / 4\n",
    "r2_overall = (r2_nitrogen + r2_phosphorus + r2_potassium + r2_water) / 4\n",
    "\n",
    "print(f\"Overall - Mean Absolute Error: {mae_overall}\")\n",
    "print(f\"Overall - Mean Squared Error: {mse_overall}\")\n",
    "print(f\"Overall - R^2 Score: {r2_overall}\")\n",
    "\n",
    "# **8. Save Models**\n",
    "dump(best_model_nitrogen, 'model_nitrogen.joblib')\n",
    "dump(best_model_phosphorus, 'model_phosphorus.joblib')\n",
    "dump(best_model_potassium, 'model_potassium.joblib')\n",
    "dump(best_model_water, 'model_water.joblib')\n"
   ]
  },
  {
   "cell_type": "code",
   "execution_count": 7,
   "id": "8c516445",
   "metadata": {},
   "outputs": [
    {
     "name": "stdout",
     "output_type": "stream",
     "text": [
      "Fitur yang digunakan dalam scaler: ['N' 'P' 'K' 'moisture' 'ph']\n"
     ]
    },
    {
     "name": "stderr",
     "output_type": "stream",
     "text": [
      "C:\\ProgramData\\anaconda3\\Lib\\site-packages\\sklearn\\base.py:464: UserWarning: X does not have valid feature names, but DecisionTreeRegressor was fitted with feature names\n",
      "  warnings.warn(\n",
      "C:\\ProgramData\\anaconda3\\Lib\\site-packages\\sklearn\\base.py:464: UserWarning: X does not have valid feature names, but DecisionTreeRegressor was fitted with feature names\n",
      "  warnings.warn(\n",
      "C:\\ProgramData\\anaconda3\\Lib\\site-packages\\sklearn\\base.py:464: UserWarning: X does not have valid feature names, but DecisionTreeRegressor was fitted with feature names\n",
      "  warnings.warn(\n",
      "C:\\ProgramData\\anaconda3\\Lib\\site-packages\\sklearn\\base.py:464: UserWarning: X does not have valid feature names, but DecisionTreeRegressor was fitted with feature names\n",
      "  warnings.warn(\n"
     ]
    },
    {
     "name": "stdout",
     "output_type": "stream",
     "text": [
      "Predicted Water Requirement: 66.35304615\n",
      "Predicted N Requirement: 15.0\n",
      "Predicted P Requirement: 15.0\n",
      "Predicted K Requirement: 12.5\n"
     ]
    }
   ],
   "source": [
    "import firebase_admin\n",
    "from firebase_admin import credentials, db\n",
    "import pandas as pd\n",
    "import joblib  # Ubah dari pickle ke joblib jika Anda menggunakan joblib\n",
    "\n",
    "# Inisialisasi aplikasi Firebase\n",
    "if not firebase_admin._apps:\n",
    "    cred = credentials.Certificate(\"kebuncabe-6f515-firebase-adminsdk-n54zr-c89d1f51dd.json\")\n",
    "    firebase_admin.initialize_app(cred, {\n",
    "        'databaseURL': 'https://kebuncabe-6f515-default-rtdb.firebaseio.com/'\n",
    "    })\n",
    "\n",
    "# Mengambil data dari Firebase\n",
    "ref = db.reference('sensorData')\n",
    "sensor_data = ref.get()\n",
    "\n",
    "# Cek apakah data adalah nested dictionary dan ambil nilai dari 'sensorData' jika ada\n",
    "if isinstance(sensor_data, dict) and 'sensorData' in sensor_data:\n",
    "    sensor_data = sensor_data['sensorData']\n",
    "\n",
    "# Konversi data menjadi DataFrame\n",
    "sensor_df = pd.DataFrame([sensor_data])\n",
    "\n",
    "# Ubah nama kolom dari 'humidity' menjadi 'moisture'\n",
    "sensor_df = sensor_df.rename(columns={'humidity': 'moisture'})\n",
    "\n",
    "# Ubah tipe data dari kolom menjadi float jika memungkinkan\n",
    "try:\n",
    "    sensor_df = sensor_df.astype({'K': 'float', 'N': 'float', 'P': 'float', 'moisture': 'float', 'ph': 'float'})\n",
    "except KeyError as e:\n",
    "    print(f\"KeyError: {e}. Available columns: {sensor_df.columns}\")\n",
    "\n",
    "# Pastikan urutan fitur sesuai dengan model\n",
    "expected_features = ['N', 'P', 'K', 'moisture', 'ph']\n",
    "sensor_df = sensor_df[expected_features]\n",
    "\n",
    "# Muat model dan scaler dari file menggunakan joblib\n",
    "scaler = joblib.load('scaler.joblib')\n",
    "model_water = joblib.load('model_water.joblib')\n",
    "model_n = joblib.load('model_nitrogen.joblib')\n",
    "model_p = joblib.load('model_phosphorus.joblib')\n",
    "model_k = joblib.load('model_potassium.joblib')\n",
    "\n",
    "# Pastikan fitur dalam scaler sesuai dengan yang digunakan pada model\n",
    "print(\"Fitur yang digunakan dalam scaler:\", scaler.feature_names_in_)\n",
    "\n",
    "# Normalisasi data sensor yang telah disesuaikan\n",
    "sensor_normalized = scaler.transform(sensor_df)\n",
    "\n",
    "# Prediksi kebutuhan air dan pupuk\n",
    "predicted_water = model_water.predict(sensor_normalized)\n",
    "predicted_n = model_n.predict(sensor_normalized)\n",
    "predicted_p = model_p.predict(sensor_normalized)\n",
    "predicted_k = model_k.predict(sensor_normalized)\n",
    "\n",
    "# Update prediksi ke Firebase\n",
    "predictions_ref = db.reference('predictions_realtime')\n",
    "predictions_ref.set({\n",
    "    'Penambahan Air (ml)': predicted_water[0],\n",
    "    'Penambahan Pupuk KCL (K)': predicted_k[0],\n",
    "    'Penambahan Pupuk SP36 (P)': predicted_p[0],\n",
    "    'Penambahan Pupuk Urea (N)': predicted_n[0],\n",
    "})\n",
    "\n",
    "print(f'Predicted Water Requirement: {predicted_water[0]}')\n",
    "print(f'Predicted N Requirement: {predicted_n[0]}')\n",
    "print(f'Predicted P Requirement: {predicted_p[0]}')\n",
    "print(f'Predicted K Requirement: {predicted_k[0]}')\n"
   ]
  },
  {
   "cell_type": "code",
   "execution_count": 8,
   "id": "db6fedb1",
   "metadata": {},
   "outputs": [
    {
     "name": "stdout",
     "output_type": "stream",
     "text": [
      "Overall - Mean Absolute Error: 0.07240600071189629\n",
      "Overall - Mean Squared Error: 0.08453622805773899\n",
      "Overall - R^2 Score: 0.9999952359941653\n",
      "Accuracy within 10% threshold: 99.72%\n",
      "Accuracy within absolute error threshold 0.1: 85.40%\n"
     ]
    },
    {
     "name": "stderr",
     "output_type": "stream",
     "text": [
      "C:\\Users\\ASUS\\AppData\\Local\\Temp\\ipykernel_2252\\2903222809.py:26: RuntimeWarning: invalid value encountered in divide\n",
      "  accuracy_within_threshold = np.mean(np.abs((y_pred_all - y_test_all) / y_test_all) < threshold)\n"
     ]
    }
   ],
   "source": [
    "import numpy as np\n",
    "from sklearn.metrics import mean_absolute_error, mean_squared_error, r2_score\n",
    "\n",
    "# Prediksi dan nilai aktual\n",
    "y_pred_nitrogen = best_model_nitrogen.predict(X_test_nitrogen)\n",
    "y_pred_phosphorus = best_model_phosphorus.predict(X_test_phosphorus)\n",
    "y_pred_potassium = best_model_potassium.predict(X_test_potassium)\n",
    "y_pred_water = best_model_water.predict(X_test_water)\n",
    "\n",
    "# Gabungkan semua prediksi dan nilai aktual\n",
    "y_test_all = np.concatenate([y_test_nitrogen, y_test_phosphorus, y_test_potassium, y_test_water])\n",
    "y_pred_all = np.concatenate([y_pred_nitrogen, y_pred_phosphorus, y_pred_potassium, y_pred_water])\n",
    "\n",
    "# Menghitung MAE, MSE, dan R²\n",
    "mae_all = mean_absolute_error(y_test_all, y_pred_all)\n",
    "mse_all = mean_squared_error(y_test_all, y_pred_all)\n",
    "r2_all = r2_score(y_test_all, y_pred_all)\n",
    "\n",
    "# Cetak hasil\n",
    "print(f\"Overall - Mean Absolute Error: {mae_all}\")\n",
    "print(f\"Overall - Mean Squared Error: {mse_all}\")\n",
    "print(f\"Overall - R^2 Score: {r2_all}\")\n",
    "\n",
    "# Menghitung akurasi berdasarkan kesalahan absolut < 10% dari nilai sebenarnya\n",
    "threshold = 0.1  # 10%\n",
    "accuracy_within_threshold = np.mean(np.abs((y_pred_all - y_test_all) / y_test_all) < threshold)\n",
    "print(f\"Accuracy within 10% threshold: {accuracy_within_threshold * 100:.2f}%\")\n",
    "\n",
    "# Menghitung akurasi berdasarkan kesalahan absolut < nilai tertentu\n",
    "absolute_error_threshold = 0.1  # Contoh nilai tertentu\n",
    "accuracy_within_absolute_error = np.mean(np.abs(y_pred_all - y_test_all) < absolute_error_threshold)\n",
    "print(f\"Accuracy within absolute error threshold {absolute_error_threshold}: {accuracy_within_absolute_error * 100:.2f}%\")\n"
   ]
  },
  {
   "cell_type": "code",
   "execution_count": null,
   "id": "c1bc5e9f",
   "metadata": {},
   "outputs": [],
   "source": []
  }
 ],
 "metadata": {
  "kernelspec": {
   "display_name": "Python 3 (ipykernel)",
   "language": "python",
   "name": "python3"
  },
  "language_info": {
   "codemirror_mode": {
    "name": "ipython",
    "version": 3
   },
   "file_extension": ".py",
   "mimetype": "text/x-python",
   "name": "python",
   "nbconvert_exporter": "python",
   "pygments_lexer": "ipython3",
   "version": "3.11.5"
  }
 },
 "nbformat": 4,
 "nbformat_minor": 5
}
